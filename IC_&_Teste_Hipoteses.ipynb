{
  "nbformat": 4,
  "nbformat_minor": 0,
  "metadata": {
    "colab": {
      "provenance": [],
      "authorship_tag": "ABX9TyOb0gvQoabqRPpGiaQakzaX",
      "include_colab_link": true
    },
    "kernelspec": {
      "name": "python3",
      "display_name": "Python 3"
    },
    "language_info": {
      "name": "python"
    }
  },
  "cells": [
    {
      "cell_type": "markdown",
      "metadata": {
        "id": "view-in-github",
        "colab_type": "text"
      },
      "source": [
        "<a href=\"https://colab.research.google.com/github/cantaruttim/IC_DistribuicaoZ_T/blob/main/IC_%26_Teste_Hipoteses.ipynb\" target=\"_parent\"><img src=\"https://colab.research.google.com/assets/colab-badge.svg\" alt=\"Open In Colab\"/></a>"
      ]
    },
    {
      "cell_type": "markdown",
      "source": [
        "# Intervalos de Confiança\n",
        "\n",
        "$$ - \\bar{x} - Zα/2 . \\frac{σ}{\\sqrt{n}} =< 𝜇 =< + \\bar{x} + Zα/2 . \\frac{σ}{\\sqrt{n}}$$\n",
        "\n",
        "α ==> 1 - IC ==> 1 - 0.95 = 0.05"
      ],
      "metadata": {
        "id": "HLEkExaS6mus"
      }
    },
    {
      "cell_type": "code",
      "source": [
        "import numpy as np\n",
        "from scipy.stats import norm\n",
        "from scipy import stats\n",
        "import seaborn as sns\n",
        "import math"
      ],
      "metadata": {
        "id": "o468bCsR91EB"
      },
      "execution_count": 2,
      "outputs": []
    },
    {
      "cell_type": "code",
      "source": [
        "dados = np.array([126. , 129.5, 133. , 133. , 136.5, 136.5, 140. , 140. , 140. ,\n",
        "                  140. , 143.5, 143.5, 143.5, 143.5, 143.5, 143.5, 147. , 147. ,\n",
        "                  147. , 147. , 147. , 147. , 147. , 150.5, 150.5, 150.5, 150.5,\n",
        "                  150.5, 150.5, 150.5, 150.5, 154. , 154. , 154. , 154. , 154. ,\n",
        "                  154. , 154. , 154. , 154. , 157.5, 157.5, 157.5, 157.5, 157.5,\n",
        "                  157.5, 157.5, 157.5, 157.5, 157.5, 161. , 161. , 161. , 161. ,\n",
        "                  161. , 161. , 161. , 161. , 161. , 161. , 164.5, 164.5, 164.5,\n",
        "                  164.5, 164.5, 164.5, 164.5, 164.5, 164.5, 168. , 168. , 168. ,\n",
        "                  168. , 168. , 168. , 168. , 168. , 171.5, 171.5, 171.5, 171.5,\n",
        "                  171.5, 171.5, 171.5, 175. , 175. , 175. , 175. , 175. , 175. ,\n",
        "                  178.5, 178.5, 178.5, 178.5, 182. , 182. , 185.5, 185.5, 189., 192.5])"
      ],
      "metadata": {
        "id": "8dJJWUVi91I4"
      },
      "execution_count": 3,
      "outputs": []
    },
    {
      "cell_type": "code",
      "source": [
        "n = len(dados)\n",
        "n"
      ],
      "metadata": {
        "colab": {
          "base_uri": "https://localhost:8080/"
        },
        "id": "9NRWMV2c91M9",
        "outputId": "b5a9a0c0-daa9-48db-bbd4-f8fa857491ad"
      },
      "execution_count": 4,
      "outputs": [
        {
          "output_type": "execute_result",
          "data": {
            "text/plain": [
              "100"
            ]
          },
          "metadata": {},
          "execution_count": 4
        }
      ]
    },
    {
      "cell_type": "code",
      "source": [
        "media = np.mean(dados)\n",
        "media"
      ],
      "metadata": {
        "colab": {
          "base_uri": "https://localhost:8080/"
        },
        "id": "XsMc45Sw91QG",
        "outputId": "554201f5-25e3-47ed-c608-fb9fcaa0222e"
      },
      "execution_count": 5,
      "outputs": [
        {
          "output_type": "execute_result",
          "data": {
            "text/plain": [
              "159.25"
            ]
          },
          "metadata": {},
          "execution_count": 5
        }
      ]
    },
    {
      "cell_type": "code",
      "source": [
        "desvio_padrao = np.std(dados)\n",
        "desvio_padrao"
      ],
      "metadata": {
        "colab": {
          "base_uri": "https://localhost:8080/"
        },
        "id": "_lbGAlFD98do",
        "outputId": "adea6fc2-8f1b-46b7-a87a-d78ec03b6c71"
      },
      "execution_count": 6,
      "outputs": [
        {
          "output_type": "execute_result",
          "data": {
            "text/plain": [
              "13.65"
            ]
          },
          "metadata": {},
          "execution_count": 6
        }
      ]
    },
    {
      "cell_type": "code",
      "source": [
        "alpha = 0.05 / 2\n",
        "alpha"
      ],
      "metadata": {
        "colab": {
          "base_uri": "https://localhost:8080/"
        },
        "id": "ObBUKk9B98iF",
        "outputId": "abca8ccc-c422-496d-f404-e072796453ca"
      },
      "execution_count": 7,
      "outputs": [
        {
          "output_type": "execute_result",
          "data": {
            "text/plain": [
              "0.025"
            ]
          },
          "metadata": {},
          "execution_count": 7
        }
      ]
    },
    {
      "cell_type": "code",
      "source": [
        "1 - alpha"
      ],
      "metadata": {
        "colab": {
          "base_uri": "https://localhost:8080/"
        },
        "id": "byvdAb2I98ly",
        "outputId": "0f4e9128-adc5-409b-a8d3-619a81bd3a55"
      },
      "execution_count": 8,
      "outputs": [
        {
          "output_type": "execute_result",
          "data": {
            "text/plain": [
              "0.975"
            ]
          },
          "metadata": {},
          "execution_count": 8
        }
      ]
    },
    {
      "cell_type": "code",
      "source": [
        "z = norm.ppf(1 - alpha)\n",
        "z"
      ],
      "metadata": {
        "colab": {
          "base_uri": "https://localhost:8080/"
        },
        "id": "Ywa2Ry3fCkQ7",
        "outputId": "a0c9406f-700d-48d0-9986-fc3728383423"
      },
      "execution_count": 9,
      "outputs": [
        {
          "output_type": "execute_result",
          "data": {
            "text/plain": [
              "1.959963984540054"
            ]
          },
          "metadata": {},
          "execution_count": 9
        }
      ]
    },
    {
      "cell_type": "code",
      "source": [
        "x_inferior = media - z * (desvio_padrao / math.sqrt(n))"
      ],
      "metadata": {
        "id": "AHEyVwZVCkV4"
      },
      "execution_count": 10,
      "outputs": []
    },
    {
      "cell_type": "code",
      "source": [
        "x_superior = media + z * (desvio_padrao / math.sqrt(n))"
      ],
      "metadata": {
        "id": "UNhUHxhRCkaR"
      },
      "execution_count": 11,
      "outputs": []
    },
    {
      "cell_type": "code",
      "source": [
        "x_inferior, x_superior"
      ],
      "metadata": {
        "colab": {
          "base_uri": "https://localhost:8080/"
        },
        "id": "YVkLe2DPC5CP",
        "outputId": "ff4f1870-4872-461c-89aa-20a340a897ff"
      },
      "execution_count": 12,
      "outputs": [
        {
          "output_type": "execute_result",
          "data": {
            "text/plain": [
              "(156.57464916110283, 161.92535083889717)"
            ]
          },
          "metadata": {},
          "execution_count": 12
        }
      ]
    },
    {
      "cell_type": "code",
      "source": [
        "margem_erro = abs(media - x_superior)\n",
        "margem_erro"
      ],
      "metadata": {
        "colab": {
          "base_uri": "https://localhost:8080/"
        },
        "id": "u2KKcdZHC7Mw",
        "outputId": "71ad3694-44ca-4569-8d99-db4438c689dd"
      },
      "execution_count": 13,
      "outputs": [
        {
          "output_type": "execute_result",
          "data": {
            "text/plain": [
              "2.675350838897174"
            ]
          },
          "metadata": {},
          "execution_count": 13
        }
      ]
    },
    {
      "cell_type": "code",
      "source": [
        "sns.histplot(dados, kde=True);"
      ],
      "metadata": {
        "colab": {
          "base_uri": "https://localhost:8080/",
          "height": 430
        },
        "id": "7YVdOLYyC7RW",
        "outputId": "2b31a113-65de-4778-efe6-b143220dd8ba"
      },
      "execution_count": 14,
      "outputs": [
        {
          "output_type": "display_data",
          "data": {
            "text/plain": [
              "<Figure size 640x480 with 1 Axes>"
            ],
            "image/png": "[encoded data removed]"
          },
          "metadata": {}
        }
      ]
    },
    {
      "cell_type": "code",
      "source": [
        "# stats.sem(dados)\n",
        "intervalos = norm.interval(0.95, media, stats.sem(dados))\n",
        "intervalos"
      ],
      "metadata": {
        "colab": {
          "base_uri": "https://localhost:8080/"
        },
        "id": "lVCFUvMtC7Vt",
        "outputId": "e2a99912-742d-4e72-c092-089058bf1412"
      },
      "execution_count": 15,
      "outputs": [
        {
          "output_type": "execute_result",
          "data": {
            "text/plain": [
              "(156.5611712378229, 161.9388287621771)"
            ]
          },
          "metadata": {},
          "execution_count": 15
        }
      ]
    },
    {
      "cell_type": "code",
      "source": [
        "margem_erro = media - intervalos[0]\n",
        "margem_erro"
      ],
      "metadata": {
        "colab": {
          "base_uri": "https://localhost:8080/"
        },
        "id": "N3us4EpkDLED",
        "outputId": "b71a33b8-4336-4b9a-ac45-1aff0e612682"
      },
      "execution_count": 16,
      "outputs": [
        {
          "output_type": "execute_result",
          "data": {
            "text/plain": [
              "2.68882876217711"
            ]
          },
          "metadata": {},
          "execution_count": 16
        }
      ]
    },
    {
      "cell_type": "code",
      "source": [
        "## OUTROS INTERVALOS DE CONFIANÇA"
      ],
      "metadata": {
        "id": "w_P9NewBDMP9"
      },
      "execution_count": 17,
      "outputs": []
    },
    {
      "cell_type": "code",
      "source": [
        "intervalos = norm.interval(0.99, media, stats.sem(dados))\n",
        "intervalos"
      ],
      "metadata": {
        "colab": {
          "base_uri": "https://localhost:8080/"
        },
        "id": "PKaZuhIZDwPD",
        "outputId": "3ee7726b-8850-4a45-bacc-62d8e0c56805"
      },
      "execution_count": 18,
      "outputs": [
        {
          "output_type": "execute_result",
          "data": {
            "text/plain": [
              "(155.71628000694295, 162.78371999305705)"
            ]
          },
          "metadata": {},
          "execution_count": 18
        }
      ]
    },
    {
      "cell_type": "code",
      "source": [
        "## COM UMA CONFIANÇA MENOR, OS INTERVALOS SÃO MENORES\n",
        "## CONSEQUENTEMENTE UM ERRO MAIOR"
      ],
      "metadata": {
        "id": "CgaUM6ZhDwTA"
      },
      "execution_count": 19,
      "outputs": []
    },
    {
      "cell_type": "code",
      "source": [
        "margem_erro = media - intervalos[0]\n",
        "margem_erro"
      ],
      "metadata": {
        "colab": {
          "base_uri": "https://localhost:8080/"
        },
        "id": "VPkOjAnUDwW1",
        "outputId": "34654df6-25ed-4dc8-8518-48266745dd50"
      },
      "execution_count": 20,
      "outputs": [
        {
          "output_type": "execute_result",
          "data": {
            "text/plain": [
              "3.5337199930570478"
            ]
          },
          "metadata": {},
          "execution_count": 20
        }
      ]
    },
    {
      "cell_type": "code",
      "source": [
        "intervalos = norm.interval(0.8, media, stats.sem(dados))\n",
        "intervalos"
      ],
      "metadata": {
        "colab": {
          "base_uri": "https://localhost:8080/"
        },
        "id": "KBGy3krqDwaS",
        "outputId": "488820c2-a1bb-4a53-e64b-9e6a57c6ecca"
      },
      "execution_count": 21,
      "outputs": [
        {
          "output_type": "execute_result",
          "data": {
            "text/plain": [
              "(157.49186937268743, 161.00813062731257)"
            ]
          },
          "metadata": {},
          "execution_count": 21
        }
      ]
    },
    {
      "cell_type": "code",
      "source": [
        "margem_erro = media - intervalos[0]\n",
        "margem_erro"
      ],
      "metadata": {
        "colab": {
          "base_uri": "https://localhost:8080/"
        },
        "id": "WeSK8foaEPLH",
        "outputId": "739f7816-4868-41af-dff6-9808534f179f"
      },
      "execution_count": 22,
      "outputs": [
        {
          "output_type": "execute_result",
          "data": {
            "text/plain": [
              "1.7581306273125676"
            ]
          },
          "metadata": {},
          "execution_count": 22
        }
      ]
    },
    {
      "cell_type": "code",
      "source": [
        "dados_salarios = np.array([82.1191, 72.8014, 79.1266, 71.3552, 59.192, 79.1952, 56.518,\n",
        "                           70.3752, 73.5364, 61.0407, 64.3902, 66.4076, 63.5215, 71.9936,\n",
        "                           60.1489, 78.5932, 76.0459, 67.7726, 64.6149, 80.1948, 76.7998,\n",
        "                           66.5826, 79.3674])\n",
        "dados_salarios"
      ],
      "metadata": {
        "colab": {
          "base_uri": "https://localhost:8080/"
        },
        "id": "kO5NDQ9KEPPc",
        "outputId": "f267782b-83d7-44ce-e8b1-6c0936dac916"
      },
      "execution_count": 23,
      "outputs": [
        {
          "output_type": "execute_result",
          "data": {
            "text/plain": [
              "array([82.1191, 72.8014, 79.1266, 71.3552, 59.192 , 79.1952, 56.518 ,\n",
              "       70.3752, 73.5364, 61.0407, 64.3902, 66.4076, 63.5215, 71.9936,\n",
              "       60.1489, 78.5932, 76.0459, 67.7726, 64.6149, 80.1948, 76.7998,\n",
              "       66.5826, 79.3674])"
            ]
          },
          "metadata": {},
          "execution_count": 23
        }
      ]
    },
    {
      "cell_type": "code",
      "source": [
        "media_salarios = dados_salarios.mean()\n",
        "media_salarios"
      ],
      "metadata": {
        "colab": {
          "base_uri": "https://localhost:8080/"
        },
        "id": "eUien2kOEPUX",
        "outputId": "4b71ce14-4e5e-400f-c0dc-523baa295d3b"
      },
      "execution_count": 24,
      "outputs": [
        {
          "output_type": "execute_result",
          "data": {
            "text/plain": [
              "70.50838260869567"
            ]
          },
          "metadata": {},
          "execution_count": 24
        }
      ]
    },
    {
      "cell_type": "code",
      "source": [
        "desvio_padrao = np.std(dados_salarios)\n",
        "desvio_padrao"
      ],
      "metadata": {
        "colab": {
          "base_uri": "https://localhost:8080/"
        },
        "id": "1y9xLVrVDwdc",
        "outputId": "69815cbd-7078-4c84-988f-2fa38d008a19"
      },
      "execution_count": 25,
      "outputs": [
        {
          "output_type": "execute_result",
          "data": {
            "text/plain": [
              "7.4928129604106335"
            ]
          },
          "metadata": {},
          "execution_count": 25
        }
      ]
    },
    {
      "cell_type": "code",
      "source": [
        "intervalos = norm.interval(0.95, media_salarios, stats.sem(dados_salarios))\n",
        "intervalos"
      ],
      "metadata": {
        "colab": {
          "base_uri": "https://localhost:8080/"
        },
        "id": "hrIqg2i-DMUP",
        "outputId": "339be150-cdf5-4a20-f771-89624acbe184"
      },
      "execution_count": 26,
      "outputs": [
        {
          "output_type": "execute_result",
          "data": {
            "text/plain": [
              "(67.37739288469461, 73.63937233269672)"
            ]
          },
          "metadata": {},
          "execution_count": 26
        }
      ]
    },
    {
      "cell_type": "markdown",
      "source": [
        "# Distribuição T-student\n",
        "\n",
        "A distribuição *T-student* apresenta uma variabilidade (dispersão dos dados) maior quando comparada com ao distribuição Z normal.\n",
        "\n",
        "> n = 30 <br />\n",
        "> Graus de Liberdade (D.f): Quantidade de elementos. Quanto mais elementos são adicionados, mais semelhante temos uma distribuição, parecida com uma distribuição normal.\n",
        "\n",
        "$$ - \\bar{x} - tn-1 , α/2 . \\frac{S}{\\sqrt{n}} =< 𝜇 =< + \\bar{x} + tn-1, α/2 . \\frac{S}{\\sqrt{n}}$$\n",
        "\n",
        "α ==> 1 - IC ==> 1 - 0.95 = 0.05\n",
        "D.f ==> n - 1\n"
      ],
      "metadata": {
        "id": "Z95eAnB1GGn9"
      }
    },
    {
      "cell_type": "code",
      "source": [
        "dados = np.array([149, 160, 147, 189, 175, 168, 156, 160, 152])"
      ],
      "metadata": {
        "id": "guC0N0B0GGsI"
      },
      "execution_count": 27,
      "outputs": []
    },
    {
      "cell_type": "code",
      "source": [
        "d_f = len(dados)\n",
        "d_f = d_f - 1\n",
        "d_f"
      ],
      "metadata": {
        "colab": {
          "base_uri": "https://localhost:8080/"
        },
        "id": "wpCOAdjeGGv4",
        "outputId": "8f10b911-672f-46fe-b785-00d9e725448a"
      },
      "execution_count": 32,
      "outputs": [
        {
          "output_type": "execute_result",
          "data": {
            "text/plain": [
              "8"
            ]
          },
          "metadata": {},
          "execution_count": 32
        }
      ]
    },
    {
      "cell_type": "code",
      "source": [
        "media_t = dados.mean()\n",
        "media_t"
      ],
      "metadata": {
        "colab": {
          "base_uri": "https://localhost:8080/"
        },
        "id": "zm_w1G3DGGzt",
        "outputId": "eeb62351-233a-47cd-b8d0-2511e46f14e3"
      },
      "execution_count": 33,
      "outputs": [
        {
          "output_type": "execute_result",
          "data": {
            "text/plain": [
              "161.77777777777777"
            ]
          },
          "metadata": {},
          "execution_count": 33
        }
      ]
    },
    {
      "cell_type": "code",
      "source": [
        "n = len(dados)\n",
        "n"
      ],
      "metadata": {
        "colab": {
          "base_uri": "https://localhost:8080/"
        },
        "id": "dVUJ_K1oGG3a",
        "outputId": "3c88139a-9f88-4ef7-e24f-50f40dc58168"
      },
      "execution_count": 34,
      "outputs": [
        {
          "output_type": "execute_result",
          "data": {
            "text/plain": [
              "9"
            ]
          },
          "metadata": {},
          "execution_count": 34
        }
      ]
    },
    {
      "cell_type": "code",
      "source": [
        "desvio_padrao_t = np.std(dados)\n",
        "desvio_padrao_t"
      ],
      "metadata": {
        "colab": {
          "base_uri": "https://localhost:8080/"
        },
        "id": "bX2S-vPXGG6u",
        "outputId": "c100d134-23e9-4c5c-d3b7-ee80cff13f91"
      },
      "execution_count": 35,
      "outputs": [
        {
          "output_type": "execute_result",
          "data": {
            "text/plain": [
              "12.786953227391823"
            ]
          },
          "metadata": {},
          "execution_count": 35
        }
      ]
    },
    {
      "cell_type": "code",
      "source": [
        "from scipy.stats import t\n",
        "#                          IC     D.f                  Erro Padrão\n",
        "intervalos_t = t.interval(0.95, n - 1, media_t, stats.sem(dados, ddof = 0))\n",
        "intervalos_t"
      ],
      "metadata": {
        "colab": {
          "base_uri": "https://localhost:8080/"
        },
        "id": "JRKX0NvUnju1",
        "outputId": "aa5e0005-ecff-47e7-b5bb-784cd45a6263"
      },
      "execution_count": 37,
      "outputs": [
        {
          "output_type": "execute_result",
          "data": {
            "text/plain": [
              "(151.9488554388298, 171.60670011672573)"
            ]
          },
          "metadata": {},
          "execution_count": 37
        }
      ]
    },
    {
      "cell_type": "code",
      "source": [
        "margem_erro = media_t - intervalos_t[0]\n",
        "margem_erro"
      ],
      "metadata": {
        "colab": {
          "base_uri": "https://localhost:8080/"
        },
        "id": "jkVyY7FDGG94",
        "outputId": "03d1f03c-0159-4e5d-9648-3b6762c67673"
      },
      "execution_count": 39,
      "outputs": [
        {
          "output_type": "execute_result",
          "data": {
            "text/plain": [
              "9.828922338947962"
            ]
          },
          "metadata": {},
          "execution_count": 39
        }
      ]
    },
    {
      "cell_type": "markdown",
      "source": [
        "# Intervalos de confiança e classificação"
      ],
      "metadata": {
        "id": "II_ZBYi-o0NG"
      }
    },
    {
      "cell_type": "markdown",
      "source": [
        "## Accuracy"
      ],
      "metadata": {
        "id": "nVmadMVYo0RS"
      }
    },
    {
      "cell_type": "code",
      "source": [
        "import pandas as pd\n",
        "from sklearn.model_selection import train_test_split\n",
        "from sklearn.naive_bayes import GaussianNB\n",
        "from sklearn.linear_model import LogisticRegression\n",
        "from sklearn.ensemble import RandomForestClassifier\n",
        "from sklearn.metrics import accuracy_score\n",
        "from sklearn.model_selection import cross_val_score, KFold\n",
        "dataset = pd.read_csv('credit_data.csv')\n",
        "dataset.dropna(inplace=True)\n",
        "dataset.head()"
      ],
      "metadata": {
        "colab": {
          "base_uri": "https://localhost:8080/",
          "height": 206
        },
        "id": "H47-_Umno7us",
        "outputId": "19fe4de1-eb1a-41fc-9080-786068cfe573"
      },
      "execution_count": 40,
      "outputs": [
        {
          "output_type": "execute_result",
          "data": {
            "text/plain": [
              "   i#clientid        income        age         loan  c#default\n",
              "0           1  66155.925095  59.017015  8106.532131          0\n",
              "1           2  34415.153966  48.117153  6564.745018          0\n",
              "2           3  57317.170063  63.108049  8020.953296          0\n",
              "3           4  42709.534201  45.751972  6103.642260          0\n",
              "4           5  66952.688845  18.584336  8770.099235          1"
            ],
            "text/html": [
              "\n",
              "  <div id=\"df-1556be51-3d55-4bdf-88e0-14cdaedef161\">\n",
              "    <div class=\"colab-df-container\">\n",
              "      <div>\n",
              "<style scoped>\n",
              "    .dataframe tbody tr th:only-of-type {\n",
              "        vertical-align: middle;\n",
              "    }\n",
              "\n",
              "    .dataframe tbody tr th {\n",
              "        vertical-align: top;\n",
              "    }\n",
              "\n",
              "    .dataframe thead th {\n",
              "        text-align: right;\n",
              "    }\n",
              "</style>\n",
              "<table border=\"1\" class=\"dataframe\">\n",
              "  <thead>\n",
              "    <tr style=\"text-align: right;\">\n",
              "      <th></th>\n",
              "      <th>i#clientid</th>\n",
              "      <th>income</th>\n",
              "      <th>age</th>\n",
              "      <th>loan</th>\n",
              "      <th>c#default</th>\n",
              "    </tr>\n",
              "  </thead>\n",
              "  <tbody>\n",
              "    <tr>\n",
              "      <th>0</th>\n",
              "      <td>1</td>\n",
              "      <td>66155.925095</td>\n",
              "      <td>59.017015</td>\n",
              "      <td>8106.532131</td>\n",
              "      <td>0</td>\n",
              "    </tr>\n",
              "    <tr>\n",
              "      <th>1</th>\n",
              "      <td>2</td>\n",
              "      <td>34415.153966</td>\n",
              "      <td>48.117153</td>\n",
              "      <td>6564.745018</td>\n",
              "      <td>0</td>\n",
              "    </tr>\n",
              "    <tr>\n",
              "      <th>2</th>\n",
              "      <td>3</td>\n",
              "      <td>57317.170063</td>\n",
              "      <td>63.108049</td>\n",
              "      <td>8020.953296</td>\n",
              "      <td>0</td>\n",
              "    </tr>\n",
              "    <tr>\n",
              "      <th>3</th>\n",
              "      <td>4</td>\n",
              "      <td>42709.534201</td>\n",
              "      <td>45.751972</td>\n",
              "      <td>6103.642260</td>\n",
              "      <td>0</td>\n",
              "    </tr>\n",
              "    <tr>\n",
              "      <th>4</th>\n",
              "      <td>5</td>\n",
              "      <td>66952.688845</td>\n",
              "      <td>18.584336</td>\n",
              "      <td>8770.099235</td>\n",
              "      <td>1</td>\n",
              "    </tr>\n",
              "  </tbody>\n",
              "</table>\n",
              "</div>\n",
              "      <button class=\"colab-df-convert\" onclick=\"convertToInteractive('df-1556be51-3d55-4bdf-88e0-14cdaedef161')\"\n",
              "              title=\"Convert this dataframe to an interactive table.\"\n",
              "              style=\"display:none;\">\n",
              "        \n",
              "  <svg xmlns=\"http://www.w3.org/2000/svg\" height=\"24px\"viewBox=\"0 0 24 24\"\n",
              "       width=\"24px\">\n",
              "    <path d=\"M0 0h24v24H0V0z\" fill=\"none\"/>\n",
              "    <path d=\"M18.56 5.44l.94 2.06.94-2.06 2.06-.94-2.06-.94-.94-2.06-.94 2.06-2.06.94zm-11 1L8.5 8.5l.94-2.06 2.06-.94-2.06-.94L8.5 2.5l-.94 2.06-2.06.94zm10 10l.94 2.06.94-2.06 2.06-.94-2.06-.94-.94-2.06-.94 2.06-2.06.94z\"/><path d=\"M17.41 7.96l-1.37-1.37c-.4-.4-.92-.59-1.43-.59-.52 0-1.04.2-1.43.59L10.3 9.45l-7.72 7.72c-.78.78-.78 2.05 0 2.83L4 21.41c.39.39.9.59 1.41.59.51 0 1.02-.2 1.41-.59l7.78-7.78 2.81-2.81c.8-.78.8-2.07 0-2.86zM5.41 20L4 18.59l7.72-7.72 1.47 1.35L5.41 20z\"/>\n",
              "  </svg>\n",
              "      </button>\n",
              "      \n",
              "  <style>\n",
              "    .colab-df-container {\n",
              "      display:flex;\n",
              "      flex-wrap:wrap;\n",
              "      gap: 12px;\n",
              "    }\n",
              "\n",
              "    .colab-df-convert {\n",
              "      background-color: #E8F0FE;\n",
              "      border: none;\n",
              "      border-radius: 50%;\n",
              "      cursor: pointer;\n",
              "      display: none;\n",
              "      fill: #1967D2;\n",
              "      height: 32px;\n",
              "      padding: 0 0 0 0;\n",
              "      width: 32px;\n",
              "    }\n",
              "\n",
              "    .colab-df-convert:hover {\n",
              "      background-color: #E2EBFA;\n",
              "      box-shadow: 0px 1px 2px rgba(60, 64, 67, 0.3), 0px 1px 3px 1px rgba(60, 64, 67, 0.15);\n",
              "      fill: #174EA6;\n",
              "    }\n",
              "\n",
              "    [theme=dark] .colab-df-convert {\n",
              "      background-color: #3B4455;\n",
              "      fill: #D2E3FC;\n",
              "    }\n",
              "\n",
              "    [theme=dark] .colab-df-convert:hover {\n",
              "      background-color: #434B5C;\n",
              "      box-shadow: 0px 1px 3px 1px rgba(0, 0, 0, 0.15);\n",
              "      filter: drop-shadow(0px 1px 2px rgba(0, 0, 0, 0.3));\n",
              "      fill: #FFFFFF;\n",
              "    }\n",
              "  </style>\n",
              "\n",
              "      <script>\n",
              "        const buttonEl =\n",
              "          document.querySelector('#df-1556be51-3d55-4bdf-88e0-14cdaedef161 button.colab-df-convert');\n",
              "        buttonEl.style.display =\n",
              "          google.colab.kernel.accessAllowed ? 'block' : 'none';\n",
              "\n",
              "        async function convertToInteractive(key) {\n",
              "          const element = document.querySelector('#df-1556be51-3d55-4bdf-88e0-14cdaedef161');\n",
              "          const dataTable =\n",
              "            await google.colab.kernel.invokeFunction('convertToInteractive',\n",
              "                                                     [key], {});\n",
              "          if (!dataTable) return;\n",
              "\n",
              "          const docLinkHtml = 'Like what you see? Visit the ' +\n",
              "            '<a target=\"_blank\" href=https://colab.research.google.com/notebooks/data_table.ipynb>data table notebook</a>'\n",
              "            + ' to learn more about interactive tables.';\n",
              "          element.innerHTML = '';\n",
              "          dataTable['output_type'] = 'display_data';\n",
              "          await google.colab.output.renderOutput(dataTable, element);\n",
              "          const docLink = document.createElement('div');\n",
              "          docLink.innerHTML = docLinkHtml;\n",
              "          element.appendChild(docLink);\n",
              "        }\n",
              "      </script>\n",
              "    </div>\n",
              "  </div>\n",
              "  "
            ]
          },
          "metadata": {},
          "execution_count": 40
        }
      ]
    },
    {
      "cell_type": "code",
      "source": [
        "X = dataset.iloc[:, 1:4].values\n",
        "X"
      ],
      "metadata": {
        "colab": {
          "base_uri": "https://localhost:8080/"
        },
        "id": "vQeimsFuo7y9",
        "outputId": "71c96bc6-5cc4-4bd7-b512-8e510efec267"
      },
      "execution_count": 41,
      "outputs": [
        {
          "output_type": "execute_result",
          "data": {
            "text/plain": [
              "array([[6.61559251e+04, 5.90170151e+01, 8.10653213e+03],\n",
              "       [3.44151540e+04, 4.81171531e+01, 6.56474502e+03],\n",
              "       [5.73171701e+04, 6.31080495e+01, 8.02095330e+03],\n",
              "       ...,\n",
              "       [4.43114493e+04, 2.80171669e+01, 5.52278669e+03],\n",
              "       [4.37560566e+04, 6.39717958e+01, 1.62272260e+03],\n",
              "       [6.94365796e+04, 5.61526170e+01, 7.37883360e+03]])"
            ]
          },
          "metadata": {},
          "execution_count": 41
        }
      ]
    },
    {
      "cell_type": "code",
      "source": [
        "y = dataset.iloc[:, 4].values\n",
        "y"
      ],
      "metadata": {
        "colab": {
          "base_uri": "https://localhost:8080/"
        },
        "id": "bF_1lQgXo0VP",
        "outputId": "e331d8aa-782f-474e-d6c7-b1b03dd97ff3"
      },
      "execution_count": 42,
      "outputs": [
        {
          "output_type": "execute_result",
          "data": {
            "text/plain": [
              "array([0, 0, 0, ..., 1, 0, 0])"
            ]
          },
          "metadata": {},
          "execution_count": 42
        }
      ]
    },
    {
      "cell_type": "code",
      "source": [
        "resultados_naive_bayes_cv = [] # armazena a média dos resultados dos 30 testes\n",
        "resultados_naive_bayes_cv_300 = [] # todos os valores de accuracy\n",
        "resultados_logistica_cv = []\n",
        "resultados_logistica_cv_300 = []\n",
        "resultados_forest_cv = []\n",
        "resultados_forest_cv_300 = []\n",
        "\n",
        "for i in range(30):\n",
        "  kfold = KFold(n_splits = 10, shuffle = True, random_state = i)\n",
        "\n",
        "  naive_bayes = GaussianNB()\n",
        "  scores = cross_val_score(naive_bayes, X, y, cv = kfold)\n",
        "  resultados_naive_bayes_cv_300.append(scores)\n",
        "  resultados_naive_bayes_cv.append(scores.mean())\n",
        "\n",
        "  logistica = LogisticRegression()\n",
        "  scores = cross_val_score(logistica, X, y, cv = kfold)\n",
        "  resultados_logistica_cv_300.append(scores)\n",
        "  resultados_logistica_cv.append(scores.mean())\n",
        "\n",
        "  random_forest = RandomForestClassifier()\n",
        "  scores = cross_val_score(random_forest, X, y, cv = kfold)\n",
        "  resultados_forest_cv_300.append(scores)\n",
        "  resultados_forest_cv.append(scores.mean())"
      ],
      "metadata": {
        "id": "KkJbfvrQo0ZF"
      },
      "execution_count": 43,
      "outputs": []
    },
    {
      "cell_type": "code",
      "source": [
        "len(resultados_naive_bayes_cv), len(resultados_naive_bayes_cv_300)"
      ],
      "metadata": {
        "colab": {
          "base_uri": "https://localhost:8080/"
        },
        "id": "6y71KaBzp1on",
        "outputId": "f4d303ae-c6b0-4efe-84c4-e1df3659cc2e"
      },
      "execution_count": 44,
      "outputs": [
        {
          "output_type": "execute_result",
          "data": {
            "text/plain": [
              "(30, 30)"
            ]
          },
          "metadata": {},
          "execution_count": 44
        }
      ]
    },
    {
      "cell_type": "code",
      "source": [
        "print(resultados_naive_bayes_cv)"
      ],
      "metadata": {
        "colab": {
          "base_uri": "https://localhost:8080/"
        },
        "id": "OiVvwf5ep1tK",
        "outputId": "9eb50d01-9f63-44e7-8f61-af292f990042"
      },
      "execution_count": 45,
      "outputs": [
        {
          "output_type": "stream",
          "name": "stdout",
          "text": [
            "[0.9248618090452261, 0.9249170854271356, 0.9248894472361808, 0.9228819095477387, 0.9248718592964824, 0.9253894472361809, 0.9243844221105528, 0.9248894472361808, 0.9248718592964824, 0.9238894472361808, 0.9253844221105527, 0.9244020100502512, 0.9253743718592965, 0.924394472361809, 0.9253869346733667, 0.9248819095477387, 0.9258844221105527, 0.924894472361809, 0.9238819095477387, 0.9258844221105529, 0.9258944723618091, 0.9253894472361811, 0.92436432160804, 0.9263844221105527, 0.9228944723618092, 0.9253894472361809, 0.9248869346733668, 0.9253919597989949, 0.9253819095477386, 0.9258844221105527]\n"
          ]
        }
      ]
    },
    {
      "cell_type": "code",
      "source": [
        "print(resultados_naive_bayes_cv_300)"
      ],
      "metadata": {
        "colab": {
          "base_uri": "https://localhost:8080/"
        },
        "id": "DQFtORT2p1yI",
        "outputId": "ca871a61-f94e-410c-e765-344d9c5deb73"
      },
      "execution_count": 46,
      "outputs": [
        {
          "output_type": "stream",
          "name": "stdout",
          "text": [
            "[array([0.91      , 0.93      , 0.96      , 0.925     , 0.94      ,\n",
            "       0.895     , 0.965     , 0.89949749, 0.87939698, 0.94472362]), array([0.92      , 0.945     , 0.895     , 0.92      , 0.915     ,\n",
            "       0.93      , 0.89      , 0.94974874, 0.93467337, 0.94974874]), array([0.93      , 0.89      , 0.94      , 0.935     , 0.905     ,\n",
            "       0.935     , 0.935     , 0.91959799, 0.94472362, 0.91457286]), array([0.91      , 0.945     , 0.95      , 0.94      , 0.92      ,\n",
            "       0.9       , 0.9       , 0.90954774, 0.91959799, 0.93467337]), array([0.96      , 0.93      , 0.94      , 0.905     , 0.935     ,\n",
            "       0.93      , 0.905     , 0.90452261, 0.89949749, 0.93969849]), array([0.915     , 0.91      , 0.945     , 0.945     , 0.9       ,\n",
            "       0.935     , 0.925     , 0.96482412, 0.89949749, 0.91457286]), array([0.955     , 0.935     , 0.915     , 0.94      , 0.905     ,\n",
            "       0.9       , 0.925     , 0.92462312, 0.92462312, 0.91959799]), array([0.94      , 0.92      , 0.925     , 0.915     , 0.905     ,\n",
            "       0.935     , 0.93      , 0.91457286, 0.92462312, 0.93969849]), array([0.915     , 0.93      , 0.905     , 0.94      , 0.935     ,\n",
            "       0.955     , 0.925     , 0.91457286, 0.91457286, 0.91457286]), array([0.895     , 0.885     , 0.925     , 0.935     , 0.955     ,\n",
            "       0.935     , 0.93      , 0.92964824, 0.91959799, 0.92964824]), array([0.92      , 0.93      , 0.935     , 0.95      , 0.905     ,\n",
            "       0.905     , 0.94      , 0.91959799, 0.89949749, 0.94974874]), array([0.945     , 0.92      , 0.925     , 0.89      , 0.935     ,\n",
            "       0.9       , 0.925     , 0.92462312, 0.94472362, 0.93467337]), array([0.93      , 0.92      , 0.93      , 0.945     , 0.935     ,\n",
            "       0.93      , 0.915     , 0.92964824, 0.91457286, 0.90452261]), array([0.91      , 0.94      , 0.93      , 0.88      , 0.945     ,\n",
            "       0.9       , 0.95      , 0.93969849, 0.93467337, 0.91457286]), array([0.92      , 0.915     , 0.945     , 0.935     , 0.885     ,\n",
            "       0.945     , 0.935     , 0.93467337, 0.92462312, 0.91457286]), array([0.9       , 0.95      , 0.955     , 0.895     , 0.96      ,\n",
            "       0.935     , 0.89      , 0.90452261, 0.91959799, 0.93969849]), array([0.925     , 0.92      , 0.94      , 0.93      , 0.935     ,\n",
            "       0.93      , 0.91      , 0.90954774, 0.90954774, 0.94974874]), array([0.95      , 0.93      , 0.94      , 0.935     , 0.9       ,\n",
            "       0.895     , 0.91      , 0.94472362, 0.90954774, 0.93467337]), array([0.925     , 0.92      , 0.92      , 0.935     , 0.905     ,\n",
            "       0.94      , 0.93      , 0.91457286, 0.91457286, 0.93467337]), array([0.94      , 0.925     , 0.905     , 0.96      , 0.915     ,\n",
            "       0.915     , 0.93      , 0.90954774, 0.94974874, 0.90954774]), array([0.895     , 0.9       , 0.94      , 0.9       , 0.94      ,\n",
            "       0.935     , 0.96      , 0.89949749, 0.93467337, 0.95477387]), array([0.93      , 0.94      , 0.915     , 0.955     , 0.925     ,\n",
            "       0.9       , 0.91      , 0.89447236, 0.92462312, 0.95979899]), array([0.945     , 0.9       , 0.93      , 0.95      , 0.945     ,\n",
            "       0.93      , 0.915     , 0.91457286, 0.88944724, 0.92462312]), array([0.92      , 0.925     , 0.925     , 0.94      , 0.915     ,\n",
            "       0.91      , 0.96      , 0.94974874, 0.89949749, 0.91959799]), array([0.91      , 0.92      , 0.925     , 0.895     , 0.925     ,\n",
            "       0.92      , 0.945     , 0.92964824, 0.90954774, 0.94974874]), array([0.92      , 0.925     , 0.91      , 0.93      , 0.905     ,\n",
            "       0.945     , 0.94      , 0.92462312, 0.92964824, 0.92462312]), array([0.935     , 0.91      , 0.93      , 0.96      , 0.9       ,\n",
            "       0.91      , 0.93      , 0.91457286, 0.93969849, 0.91959799]), array([0.95      , 0.91      , 0.915     , 0.905     , 0.925     ,\n",
            "       0.93      , 0.935     , 0.92462312, 0.91959799, 0.93969849]), array([0.94      , 0.915     , 0.945     , 0.925     , 0.93      ,\n",
            "       0.92      , 0.915     , 0.90452261, 0.90954774, 0.94974874]), array([0.935     , 0.92      , 0.91      , 0.925     , 0.91      ,\n",
            "       0.93      , 0.96      , 0.91457286, 0.92964824, 0.92462312])]\n"
          ]
        }
      ]
    },
    {
      "cell_type": "code",
      "source": [
        "np.asarray(resultados_naive_bayes_cv_300).shape"
      ],
      "metadata": {
        "colab": {
          "base_uri": "https://localhost:8080/"
        },
        "id": "5vutX3t9p12B",
        "outputId": "45ee822c-eb4c-4e3e-c021-5df83d8df5ff"
      },
      "execution_count": 47,
      "outputs": [
        {
          "output_type": "execute_result",
          "data": {
            "text/plain": [
              "(30, 10)"
            ]
          },
          "metadata": {},
          "execution_count": 47
        }
      ]
    },
    {
      "cell_type": "code",
      "source": [
        "resultados_naive_bayes_cv = np.array(resultados_naive_bayes_cv)\n",
        "resultados_naive_bayes_cv_300 = np.array(np.asarray(resultados_naive_bayes_cv_300).reshape(-1))\n",
        "resultados_logistica_cv = np.array(resultados_logistica_cv)\n",
        "resultados_logistica_cv_300 = np.array(np.asarray(resultados_logistica_cv_300).reshape(-1))\n",
        "resultados_forest_cv = np.array(resultados_forest_cv)\n",
        "resultados_forest_cv_300 = np.array(np.asarray(resultados_forest_cv_300).reshape(-1))"
      ],
      "metadata": {
        "id": "0J7k_Ys2qzUr"
      },
      "execution_count": 48,
      "outputs": []
    },
    {
      "cell_type": "code",
      "source": [
        "resultados_naive_bayes_cv_300.shape"
      ],
      "metadata": {
        "colab": {
          "base_uri": "https://localhost:8080/"
        },
        "id": "Sx5tkA_cqzZW",
        "outputId": "5651bc11-236c-44dc-e080-bfd3d023504e"
      },
      "execution_count": 49,
      "outputs": [
        {
          "output_type": "execute_result",
          "data": {
            "text/plain": [
              "(300,)"
            ]
          },
          "metadata": {},
          "execution_count": 49
        }
      ]
    },
    {
      "cell_type": "code",
      "source": [
        "sns.histplot(resultados_naive_bayes_cv, kde= True);"
      ],
      "metadata": {
        "colab": {
          "base_uri": "https://localhost:8080/",
          "height": 430
        },
        "id": "2ghRsVDpq6Rl",
        "outputId": "f453b251-be53-4377-e38f-679d197a3ab2"
      },
      "execution_count": 51,
      "outputs": [
        {
          "output_type": "display_data",
          "data": {
            "text/plain": [
              "<Figure size 640x480 with 1 Axes>"
            ],
            "image/png": "[encoded data removed]"
          },
          "metadata": {}
        }
      ]
    },
    {
      "cell_type": "code",
      "source": [
        "sns.histplot(resultados_naive_bayes_cv_300, kde=True);"
      ],
      "metadata": {
        "colab": {
          "base_uri": "https://localhost:8080/",
          "height": 430
        },
        "id": "ogb54pgAq6Vf",
        "outputId": "e6763348-c46e-48c9-ab0e-b2f0457e0efe"
      },
      "execution_count": 52,
      "outputs": [
        {
          "output_type": "display_data",
          "data": {
            "text/plain": [
              "<Figure size 640x480 with 1 Axes>"
            ],
            "image/png": "[encoded data removed]"
          },
          "metadata": {}
        }
      ]
    },
    {
      "cell_type": "code",
      "source": [
        "sns.histplot(resultados_logistica_cv, kde=True);"
      ],
      "metadata": {
        "colab": {
          "base_uri": "https://localhost:8080/",
          "height": 430
        },
        "id": "O-WKhvg1q6Zr",
        "outputId": "bad7c5cf-a7e9-4ec8-ffac-3e7d22c77a57"
      },
      "execution_count": 53,
      "outputs": [
        {
          "output_type": "display_data",
          "data": {
            "text/plain": [
              "<Figure size 640x480 with 1 Axes>"
            ],
            "image/png": "[encoded data removed]"
          },
          "metadata": {}
        }
      ]
    },
    {
      "cell_type": "code",
      "source": [
        "sns.histplot(resultados_logistica_cv_300, kde=True);"
      ],
      "metadata": {
        "colab": {
          "base_uri": "https://localhost:8080/",
          "height": 430
        },
        "id": "yhr59vqPrbA4",
        "outputId": "920b96d0-cf40-4ea0-94b8-56ec42361cde"
      },
      "execution_count": 54,
      "outputs": [
        {
          "output_type": "display_data",
          "data": {
            "text/plain": [
              "<Figure size 640x480 with 1 Axes>"
            ],
            "image/png": "[encoded data removed]"
          },
          "metadata": {}
        }
      ]
    },
    {
      "cell_type": "code",
      "source": [
        "sns.histplot(resultados_forest_cv, kde=True);"
      ],
      "metadata": {
        "colab": {
          "base_uri": "https://localhost:8080/",
          "height": 430
        },
        "id": "NQEyULTnrbEt",
        "outputId": "a876b5e8-141f-46cb-bf8a-80d927d89198"
      },
      "execution_count": 55,
      "outputs": [
        {
          "output_type": "display_data",
          "data": {
            "text/plain": [
              "<Figure size 640x480 with 1 Axes>"
            ],
            "image/png": "[encoded data removed]"
          },
          "metadata": {}
        }
      ]
    },
    {
      "cell_type": "code",
      "source": [
        "sns.histplot(resultados_forest_cv_300, bins=5, kde=True);"
      ],
      "metadata": {
        "colab": {
          "base_uri": "https://localhost:8080/",
          "height": 430
        },
        "id": "ZeHHvnOhrmqg",
        "outputId": "38a78c8d-e797-4a73-c7f7-f78f90c9023b"
      },
      "execution_count": 56,
      "outputs": [
        {
          "output_type": "display_data",
          "data": {
            "text/plain": [
              "<Figure size 640x480 with 1 Axes>"
            ],
            "image/png": "[encoded data removed]"
          },
          "metadata": {}
        }
      ]
    },
    {
      "cell_type": "code",
      "source": [
        "resultados_naive_bayes_cv.mean(), resultados_logistica_cv.mean(), resultados_forest_cv.mean()"
      ],
      "metadata": {
        "colab": {
          "base_uri": "https://localhost:8080/"
        },
        "id": "GV8uxvZqrmvc",
        "outputId": "111d01db-cbda-4d25-e0bc-fc92cdd812c7"
      },
      "execution_count": 57,
      "outputs": [
        {
          "output_type": "execute_result",
          "data": {
            "text/plain": [
              "(0.9249359296482411, 0.9137817420435511, 0.9867638190954774)"
            ]
          },
          "metadata": {},
          "execution_count": 57
        }
      ]
    },
    {
      "cell_type": "code",
      "source": [
        "stats.variation(resultados_naive_bayes_cv) * 100, stats.variation(resultados_logistica_cv) * 100, stats.variation(resultados_forest_cv) * 100"
      ],
      "metadata": {
        "colab": {
          "base_uri": "https://localhost:8080/"
        },
        "id": "88_-T6IWqzce",
        "outputId": "34a53f77-f848-4add-89d5-1720b23a133b"
      },
      "execution_count": 58,
      "outputs": [
        {
          "output_type": "execute_result",
          "data": {
            "text/plain": [
              "(0.08641071566366061, 0.38801026116292653, 0.15652662133232562)"
            ]
          },
          "metadata": {},
          "execution_count": 58
        }
      ]
    },
    {
      "cell_type": "markdown",
      "source": [
        "## Intervalo de Confiança dos resultados"
      ],
      "metadata": {
        "id": "QzC8-LKcrwbF"
      }
    },
    {
      "cell_type": "code",
      "source": [
        "from scipy.stats import t\n",
        "from scipy.stats import norm"
      ],
      "metadata": {
        "id": "xxNPBF-XrwfP"
      },
      "execution_count": 59,
      "outputs": []
    },
    {
      "cell_type": "markdown",
      "source": [
        "## Naive Bayes"
      ],
      "metadata": {
        "id": "ZuqG-9qrrwi9"
      }
    },
    {
      "cell_type": "code",
      "source": [
        "intervalos_naive_bayes_t = t.interval(0.95, len(resultados_naive_bayes_cv) - 1,\n",
        "                                    resultados_naive_bayes_cv.mean(),\n",
        "                                    stats.sem(resultados_naive_bayes_cv, ddof = 0))\n",
        "intervalos_naive_bayes_t"
      ],
      "metadata": {
        "colab": {
          "base_uri": "https://localhost:8080/"
        },
        "id": "D5RrDQxgo0cl",
        "outputId": "b1472696-4a7f-4b3f-9cbc-29713ffb920a"
      },
      "execution_count": 61,
      "outputs": [
        {
          "output_type": "execute_result",
          "data": {
            "text/plain": [
              "(0.9246374871248957, 0.9252343721715865)"
            ]
          },
          "metadata": {},
          "execution_count": 61
        }
      ]
    },
    {
      "cell_type": "code",
      "source": [
        "abs(resultados_naive_bayes_cv.mean() - intervalos_naive_bayes_t[1])"
      ],
      "metadata": {
        "colab": {
          "base_uri": "https://localhost:8080/"
        },
        "id": "wLHQwq3Esseb",
        "outputId": "9e80ff64-ff19-4ec3-f9c7-bd76ea2f1449"
      },
      "execution_count": 62,
      "outputs": [
        {
          "output_type": "execute_result",
          "data": {
            "text/plain": [
              "0.0002984425233454324"
            ]
          },
          "metadata": {},
          "execution_count": 62
        }
      ]
    },
    {
      "cell_type": "code",
      "source": [
        "intervalos_naive_bayes_n = norm.interval(0.95, resultados_naive_bayes_cv_300.mean(),\n",
        "                                          stats.sem(resultados_naive_bayes_cv_300))\n",
        "intervalos_naive_bayes_n"
      ],
      "metadata": {
        "colab": {
          "base_uri": "https://localhost:8080/"
        },
        "id": "CPa-ZusasuKu",
        "outputId": "43bcea73-c2a8-459b-b130-2399366f867b"
      },
      "execution_count": 63,
      "outputs": [
        {
          "output_type": "execute_result",
          "data": {
            "text/plain": [
              "(0.9229333893644709, 0.9269384699320113)"
            ]
          },
          "metadata": {},
          "execution_count": 63
        }
      ]
    },
    {
      "cell_type": "code",
      "source": [
        "abs(resultados_naive_bayes_cv_300.mean() - intervalos_naive_bayes_n[1])"
      ],
      "metadata": {
        "colab": {
          "base_uri": "https://localhost:8080/"
        },
        "id": "NSikVZZisuPv",
        "outputId": "d44419a0-70dc-4178-dbfe-52cd1e0a5012"
      },
      "execution_count": 64,
      "outputs": [
        {
          "output_type": "execute_result",
          "data": {
            "text/plain": [
              "0.0020025402837702266"
            ]
          },
          "metadata": {},
          "execution_count": 64
        }
      ]
    },
    {
      "cell_type": "markdown",
      "source": [
        "## Regressão Logistica"
      ],
      "metadata": {
        "id": "VVP_b_IBszAd"
      }
    },
    {
      "cell_type": "code",
      "source": [
        "intervalos_logistica_t = t.interval(0.95, len(resultados_logistica_cv) - 1,\n",
        "                                    resultados_logistica_cv.mean(),\n",
        "                                    stats.sem(resultados_logistica_cv, ddof = 0))\n",
        "intervalos_logistica_t"
      ],
      "metadata": {
        "colab": {
          "base_uri": "https://localhost:8080/"
        },
        "id": "C_ytNDbRszRZ",
        "outputId": "2c34d1d1-e275-4934-e2cf-53262f8d5c62"
      },
      "execution_count": 65,
      "outputs": [
        {
          "output_type": "execute_result",
          "data": {
            "text/plain": [
              "(0.9124578055959317, 0.9151056784911705)"
            ]
          },
          "metadata": {},
          "execution_count": 65
        }
      ]
    },
    {
      "cell_type": "code",
      "source": [
        "abs(resultados_logistica_cv.mean() - intervalos_logistica_t[1])"
      ],
      "metadata": {
        "colab": {
          "base_uri": "https://localhost:8080/"
        },
        "id": "VCbhUvsos4po",
        "outputId": "86026250-c3f9-4f1c-da11-df20c81f2849"
      },
      "execution_count": 66,
      "outputs": [
        {
          "output_type": "execute_result",
          "data": {
            "text/plain": [
              "0.0013239364476194115"
            ]
          },
          "metadata": {},
          "execution_count": 66
        }
      ]
    },
    {
      "cell_type": "code",
      "source": [
        "intervalos_logistica_n = norm.interval(0.95, resultados_logistica_cv_300.mean(),\n",
        "                                       stats.sem(resultados_logistica_cv_300))\n",
        "intervalos_logistica_n"
      ],
      "metadata": {
        "colab": {
          "base_uri": "https://localhost:8080/"
        },
        "id": "eTCaw6als4tv",
        "outputId": "5a33d704-2f1e-4def-c101-9d1d974a6980"
      },
      "execution_count": 67,
      "outputs": [
        {
          "output_type": "execute_result",
          "data": {
            "text/plain": [
              "(0.9114192660020396, 0.9161442180850629)"
            ]
          },
          "metadata": {},
          "execution_count": 67
        }
      ]
    },
    {
      "cell_type": "code",
      "source": [
        "abs(resultados_logistica_cv_300.mean() - intervalos_logistica_n[1])"
      ],
      "metadata": {
        "colab": {
          "base_uri": "https://localhost:8080/"
        },
        "id": "odgH2ebws4xY",
        "outputId": "5f070184-21ca-434a-b277-2141622653a0"
      },
      "execution_count": 68,
      "outputs": [
        {
          "output_type": "execute_result",
          "data": {
            "text/plain": [
              "0.0023624760415116297"
            ]
          },
          "metadata": {},
          "execution_count": 68
        }
      ]
    },
    {
      "cell_type": "markdown",
      "source": [
        "## Random Forest"
      ],
      "metadata": {
        "id": "voLgTO8ps9X_"
      }
    },
    {
      "cell_type": "code",
      "source": [
        "intervalos_forest_t = t.interval(0.95, len(resultados_forest_cv) - 1,\n",
        "                                 resultados_forest_cv.mean(),\n",
        "                                 stats.sem(resultados_forest_cv, ddof = 0))\n",
        "intervalos_forest_t"
      ],
      "metadata": {
        "colab": {
          "base_uri": "https://localhost:8080/"
        },
        "id": "xEWxVO1ls9ba",
        "outputId": "4e43534e-53b4-4930-ae17-96704cc79ba3"
      },
      "execution_count": 70,
      "outputs": [
        {
          "output_type": "execute_result",
          "data": {
            "text/plain": [
              "(0.986187075368906, 0.9873405628220487)"
            ]
          },
          "metadata": {},
          "execution_count": 70
        }
      ]
    },
    {
      "cell_type": "code",
      "source": [
        "abs(resultados_forest_cv.mean() - intervalos_forest_t[1])"
      ],
      "metadata": {
        "colab": {
          "base_uri": "https://localhost:8080/"
        },
        "id": "6UTK64uhs9e7",
        "outputId": "07278ce1-4a71-4e02-8562-059d78f4ac24"
      },
      "execution_count": 71,
      "outputs": [
        {
          "output_type": "execute_result",
          "data": {
            "text/plain": [
              "0.0005767437265713493"
            ]
          },
          "metadata": {},
          "execution_count": 71
        }
      ]
    },
    {
      "cell_type": "code",
      "source": [
        "intervalos_forest_n = norm.interval(0.95, resultados_forest_cv_300.mean(),\n",
        "                                    stats.sem(resultados_forest_cv_300))\n",
        "intervalos_forest_n"
      ],
      "metadata": {
        "colab": {
          "base_uri": "https://localhost:8080/"
        },
        "id": "icnFGdvns9iW",
        "outputId": "3aa3aade-64c6-42a7-e709-60fe458fd04f"
      },
      "execution_count": 72,
      "outputs": [
        {
          "output_type": "execute_result",
          "data": {
            "text/plain": [
              "(0.9859163140132825, 0.9876113241776725)"
            ]
          },
          "metadata": {},
          "execution_count": 72
        }
      ]
    },
    {
      "cell_type": "code",
      "source": [
        "abs(resultados_forest_cv_300.mean() - intervalos_forest_n[1])"
      ],
      "metadata": {
        "colab": {
          "base_uri": "https://localhost:8080/"
        },
        "id": "FVoUOlzrs9lY",
        "outputId": "4b1638f2-84c5-481f-cb16-37d5de7f50bd"
      },
      "execution_count": 73,
      "outputs": [
        {
          "output_type": "execute_result",
          "data": {
            "text/plain": [
              "0.0008475050821949992"
            ]
          },
          "metadata": {},
          "execution_count": 73
        }
      ]
    },
    {
      "cell_type": "code",
      "source": [
        "# Temos 95% de confiança de que a média de acertos do Random Forest está\n",
        "# no intervalo entre 98,63% e 98,74% - 98,59% e 98,77%"
      ],
      "metadata": {
        "id": "F5Yg5967tIMl"
      },
      "execution_count": null,
      "outputs": []
    },
    {
      "cell_type": "code",
      "source": [
        "kfold = KFold(n_splits = 10, shuffle = True)\n",
        "random_forest = RandomForestClassifier()\n",
        "scores = cross_val_score(random_forest, X, y, cv = kfold)\n",
        "print(scores.mean())"
      ],
      "metadata": {
        "colab": {
          "base_uri": "https://localhost:8080/"
        },
        "id": "HcHpwwRStIhl",
        "outputId": "a3ab85d6-b52f-4af7-f890-e098d3c75dae"
      },
      "execution_count": 74,
      "outputs": [
        {
          "output_type": "stream",
          "name": "stdout",
          "text": [
            "0.9844824120603015\n"
          ]
        }
      ]
    }
  ]
}